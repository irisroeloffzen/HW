{
 "cells": [
  {
   "cell_type": "code",
   "execution_count": 1,
   "id": "ecb9f09a",
   "metadata": {},
   "outputs": [],
   "source": [
    "import numpy as np # numpy used exclusively for np.array's which are more convenient for the purposes of this assignment\n",
    "\n",
    "# Exercise 1 - Gradient Descent\n",
    "\n",
    "# Define functions\n",
    "def f(x: np.array) -> float:\n",
    "    return x[0]**4 + 4 * x[0] * x[1] + 2 * x[1] + (1/2) * x[1]**2\n",
    "\n",
    "def grad_f(x: np.array) -> np.array:\n",
    "    der_1 = 4 * x[0]**3 + 4 * x[1]\n",
    "    der_2 = 4 * x[0] + x[1] + 2\n",
    "    return np.array([der_1, der_2])\n",
    "\n",
    "def eta_const(t: float, c: float = 0.01) -> float:\n",
    "    return c\n",
    "\n",
    "def eta_sqrt(t: float, c: float = 0.1) -> float:\n",
    "    return c / (t + 1)**0.5\n",
    "\n",
    "def eta_multistep(t: float, milestones: list, c: float = 0.1, eta_init: float = 0.1) -> float:\n",
    "    if t >= milestones[-1]:\n",
    "        steps = milestones + [t + 1] # ensure that the loop is always terminated\n",
    "    else:\n",
    "        steps = milestones\n",
    "    eta = eta_init\n",
    "    i = 0\n",
    "    while t >= steps[i]:\n",
    "        eta *= c\n",
    "        i += 1\n",
    "    return eta\n",
    "\n",
    "def gradient_descent(f, grad_f, eta, x_0: np.array, max_iter: int = 100):\n",
    "    x_t = x_0\n",
    "    for t in range(max_iter):\n",
    "        x_tplus1 = x_t - eta(t) * grad_f(x_t)\n",
    "        x_t = x_tplus1\n",
    "    return x_t, f(x_t)\n"
   ]
  },
  {
   "cell_type": "code",
   "execution_count": 2,
   "id": "9904ba86",
   "metadata": {},
   "outputs": [
    {
     "name": "stdout",
     "output_type": "stream",
     "text": [
      "after 100 iterations we find x = [ 1.46732195 -3.34391166] with function value f(x_100) = -16.087776514949777\n",
      "after 100 iterations we find x = [ 1.81997381 -6.10987937] with function value f(x_100) = -27.062365302355108\n",
      "after 100 iterations we find x = [  2.15487448 -10.0170811 ] with function value f(x_100) = -34.64347114072298\n"
     ]
    }
   ],
   "source": [
    "x_0 = np.array([1, 1])\n",
    "\n",
    "# A\n",
    "result = gradient_descent(f, grad_f, eta_const, x_0)\n",
    "print(f\"after 100 iterations we find x = {result[0]} with function value f(x_100) = {result[1]}\")\n",
    "\n",
    "# B\n",
    "result = gradient_descent(f, grad_f, eta_sqrt, x_0)\n",
    "print(f\"after 100 iterations we find x = {result[0]} with function value f(x_100) = {result[1]}\")\n",
    "\n",
    "# C\n",
    "milestones_test = [10,60,90]\n",
    "result = gradient_descent(f, grad_f, lambda t: eta_multistep(t, milestones = milestones_test, c = 0.5, eta_init = 0.1), x_0)\n",
    "print(f\"after 100 iterations we find x = {result[0]} with function value f(x_100) = {result[1]}\")"
   ]
  },
  {
   "cell_type": "code",
   "execution_count": 3,
   "id": "ef7e99f2",
   "metadata": {},
   "outputs": [],
   "source": [
    "# Exercise 2 - Coordinate descent\n",
    "def f(x: np.array) -> float:\n",
    "    return (1/2) * x[0]**4 + x[0] * x[1] + x[1]**2 + x[1] * x[2] + x[2]**2\n",
    "\n",
    "# Note: x[i] = x_i+1, so x[0] = x1 etc\n",
    "def argmin_x1(x: np.array) -> float:\n",
    "    return (((1/2) * x[1])**(1/3)).real # Derivative wrt x1, equated to zero\n",
    "        \n",
    "def argmin_x2(x: np.array) -> float:\n",
    "    return (1/2) * (x[0] - x[2]) \n",
    "\n",
    "def argmin_x3(x: np.array) -> float:\n",
    "    return -(1/2) * x[1]\n",
    "\n",
    "# Fractional powers and np.array elements do not go well together, so a workaround changing dtypes is used\n",
    "def coordinate_descent(f, argmin, x_0: np.array, max_iter: int = 100) -> np.array:\n",
    "    x_t = x_0\n",
    "    for i in range(1, max_iter + 1):\n",
    "        for j in range(len(x_0)):\n",
    "            x_t[j] = argmin[j](x_t)\n",
    "    x_t = x_t.astype('float64')\n",
    "    return x_t, f(x_t)"
   ]
  },
  {
   "cell_type": "code",
   "execution_count": 212,
   "id": "3d766f36",
   "metadata": {},
   "outputs": [
    {
     "name": "stdout",
     "output_type": "stream",
     "text": [
      "After 100 iterations we find x1 = 0.5773502691896257. The other coordinates are x2 = 0.38490017945975047 and x3 = -0.19245008972987523, with corresponding function value f(x_100) = 0.3888888888888888\n"
     ]
    },
    {
     "name": "stderr",
     "output_type": "stream",
     "text": [
      "C:\\Users\\jespe\\AppData\\Local\\Temp\\ipykernel_39028\\1276088805.py:21: ComplexWarning: Casting complex values to real discards the imaginary part\n",
      "  x_t = x_t.astype('float64')\n"
     ]
    }
   ],
   "source": [
    "argmin = [argmin_x1, argmin_x2, argmin_x3]\n",
    "x_0 = np.array([5, 10, 5], dtype = complex)\n",
    "\n",
    "result = coordinate_descent(f, argmin, x_0, max_iter = 100)\n",
    "print(f\"After 100 iterations we find x1 = {result[0][0]}. The other coordinates are x2 = {result[0][1]} and x3 = {result[0][2]}, with corresponding function value f(x_100) = {result[1]}\")"
   ]
  },
  {
   "cell_type": "code",
   "execution_count": 1,
   "id": "20dbb323",
   "metadata": {},
   "outputs": [
    {
     "name": "stdout",
     "output_type": "stream",
     "text": [
      "100.0%\n"
     ]
    }
   ],
   "source": [
    "# Exercise 3\n",
    "x1 = [3, -2, 2, -1.5, 1.5, -2.5, -2, 2]\n",
    "x2 = [1, 2, 2, 2, 3.5, 2.5, 0, 2.5]\n",
    "y = [0, 1, 0, 1, 0, 1, 1, 0]\n",
    "predictions = [0 for i in range(len(x1))]\n",
    "\n",
    "def predict(x1, x2):\n",
    "    value = -0.078*x1 + -0.227*x2 + 0.165\n",
    "    if value > 0:\n",
    "        return 1\n",
    "    else:\n",
    "        return 0\n",
    "\n",
    "for i in range(len(x1)):\n",
    "    predictions[i] = predict(x1[i], x2[i])\n",
    "\n",
    "n = 0\n",
    "correct = 0\n",
    "incorrect = 0\n",
    "for i in range(len(x1)):\n",
    "    if y[i]==0:\n",
    "        n += 1\n",
    "        if predictions[i]!=y[i]:\n",
    "            incorrect += 1\n",
    "        else:\n",
    "            correct += 1\n",
    "\n",
    "print(str(correct/n*100)+\"%\")"
   ]
  },
  {
   "cell_type": "markdown",
   "id": "c94f3456",
   "metadata": {},
   "source": [
    "Since the answer is equal to 100%, we have that all samples of class 0 in the validation data is correctly classified"
   ]
  },
  {
   "cell_type": "code",
   "execution_count": 4,
   "id": "d8947b49",
   "metadata": {},
   "outputs": [
    {
     "name": "stdout",
     "output_type": "stream",
     "text": [
      "Question A\n",
      "0.8290598290598291\n",
      "Question B\n",
      "0.7472527472527473\n",
      "Question C\n",
      "0.5571428571428572\n",
      "Question D\n",
      "1\n"
     ]
    }
   ],
   "source": [
    "# exercise 4\n",
    "import pandas as pd\n",
    "import numpy as np\n",
    "\n",
    "df = pd.read_csv('heart_train_data.csv')\n",
    "\n",
    "outputDic = {}\n",
    "\n",
    "xd = df.drop('target', axis=1)\n",
    "\n",
    "for yValue in df['target'].unique():\n",
    "    Ic = df['target']==yValue\n",
    "    tempDic = {}\n",
    "    for item in xd:\n",
    "        dic = {}\n",
    "        for el in xd[item].unique():\n",
    "            dic[el] = sum(xd[item][Ic]==el)/len(xd[item][Ic])\n",
    "        tempDic[item] = dic\n",
    "    outputDic[yValue] = tempDic\n",
    "pyc = {0:1 - df['target'].mean(), 1:df['target'].mean()}\n",
    "\n",
    "def predict(input, outputDic, pyc):\n",
    "    dic = {}\n",
    "    for item in outputDic:\n",
    "        prod = pyc[item]\n",
    "        for el in input:\n",
    "            prod *= outputDic[item][el][input[el]]\n",
    "        dic[item] = prod\n",
    "    max = 0\n",
    "    for item in dic:\n",
    "        if max < dic[item]:\n",
    "            max = dic[item]\n",
    "            index = item\n",
    "    return index\n",
    "\n",
    "df1 = pd.read_csv('heart_validate_data.csv')\n",
    "matrix = df1.values.tolist()\n",
    "result = []\n",
    "for item in matrix:\n",
    "    pred = predict({\"cp\": item[0], \"exang\": item[1], \"thal\": item[2]}, outputDic, pyc)\n",
    "    if pred == item[3]:\n",
    "        result.append(1)\n",
    "    else:\n",
    "        result.append(0)\n",
    "\n",
    "print('Question A')\n",
    "print(outputDic[1][\"thal\"][2])\n",
    "print(\"Question B\")\n",
    "print(sum(result)/len(result))\n",
    "print(\"Question C\")\n",
    "print(df['target'].mean())\n",
    "print(\"Question D\")\n",
    "print(predict({\"cp\":1,\"exang\":1,\"thal\":2}, outputDic, pyc))"
   ]
  },
  {
   "cell_type": "markdown",
   "id": "392bd7c5",
   "metadata": {},
   "source": [
    "Since the answer to the last question is 1, we expect the patient to not have the disease, so the answer is D"
   ]
  }
 ],
 "metadata": {
  "kernelspec": {
   "display_name": "Python 3.10.4 64-bit",
   "language": "python",
   "name": "python3"
  },
  "language_info": {
   "codemirror_mode": {
    "name": "ipython",
    "version": 3
   },
   "file_extension": ".py",
   "mimetype": "text/x-python",
   "name": "python",
   "nbconvert_exporter": "python",
   "pygments_lexer": "ipython3",
   "version": "3.10.4"
  },
  "vscode": {
   "interpreter": {
    "hash": "8b920ab981abd44c400c42e25eac6e4f8f0a3455c55a9ce68727186757be446a"
   }
  }
 },
 "nbformat": 4,
 "nbformat_minor": 5
}
