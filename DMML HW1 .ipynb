{
 "cells": [
  {
   "cell_type": "code",
   "execution_count": 1,
   "id": "ecb9f09a",
   "metadata": {},
   "outputs": [],
   "source": [
    "import numpy as np # numpy used exclusively for np.array's which are more convenient for the purposes of this assignment\n",
    "\n",
    "# Exercise 1 - Gradient Descent\n",
    "\n",
    "# Define functions\n",
    "def f(x: np.array) -> float:\n",
    "    return x[0]**4 + 4 * x[0] * x[1] + 2 * x[1] + (1/2) * x[1]**2\n",
    "\n",
    "def grad_f(x: np.array) -> np.array:\n",
    "    der_1 = 4 * x[0]**3 + 4 * x[1]\n",
    "    der_2 = 4 * x[0] + x[1] + 2\n",
    "    return np.array([der_1, der_2])\n",
    "\n",
    "def eta_const(t: float, c: float = 0.01) -> float:\n",
    "    return c\n",
    "\n",
    "def eta_sqrt(t: float, c: float = 0.1) -> float:\n",
    "    return c / (t + 1)**0.5\n",
    "\n",
    "def eta_multistep(t: float, milestones: list, c: float = 0.1, eta_init: float = 0.1) -> float:\n",
    "    if t >= milestones[-1]:\n",
    "        steps = milestones + [t + 1] # ensure that the loop is always terminated\n",
    "    else:\n",
    "        steps = milestones\n",
    "    eta = eta_init\n",
    "    i = 0\n",
    "    while t >= steps[i]:\n",
    "        eta *= c\n",
    "        i += 1\n",
    "    return eta\n",
    "\n",
    "def gradient_descent(f, grad_f, eta, x_0: np.array, max_iter: int = 100):\n",
    "    x_t = x_0\n",
    "    for t in range(1, max_iter + 1):\n",
    "        x_tplus1 = x_t - eta(t) * grad_f(x_t)\n",
    "        x_t = x_tplus1\n",
    "    return x_t, f(x_t)\n"
   ]
  },
  {
   "cell_type": "code",
   "execution_count": 2,
   "id": "9904ba86",
   "metadata": {},
   "outputs": [
    {
     "name": "stdout",
     "output_type": "stream",
     "text": [
      "after 100 iterations we find x = [ 1.46732195 -3.34391166] with function value f(x_100) = -16.087776514949777\n",
      "after 100 iterations we find x = [ 1.81997381 -6.10987937] with function value f(x_100) = -27.062365302355108\n",
      "after 100 iterations we find x = [  2.15487448 -10.0170811 ] with function value f(x_100) = -34.64347114072298\n"
     ]
    }
   ],
   "source": [
    "x_0 = np.array([1, 1])\n",
    "\n",
    "# A\n",
    "result = gradient_descent(f, grad_f, eta_const, x_0)\n",
    "print(f\"after 100 iterations we find x = {result[0]} with function value f(x_100) = {result[1]}\")\n",
    "\n",
    "# B\n",
    "result = gradient_descent(f, grad_f, eta_sqrt, x_0)\n",
    "print(f\"after 100 iterations we find x = {result[0]} with function value f(x_100) = {result[1]}\")\n",
    "\n",
    "# C\n",
    "milestones_test = [10,60,90]\n",
    "result = gradient_descent(f, grad_f, lambda t: eta_multistep(t, milestones = milestones_test, c = 0.5, eta_init = 0.1), x_0)\n",
    "print(f\"after 100 iterations we find x = {result[0]} with function value f(x_100) = {result[1]}\")"
   ]
  },
  {
   "cell_type": "code",
   "execution_count": 3,
   "id": "ef7e99f2",
   "metadata": {},
   "outputs": [],
   "source": [
    "# Exercise 2 - Coordinate descent\n",
    "def f(x: np.array) -> float:\n",
    "    return (1/2) * x[0]**4 + x[0] * x[1] + x[1]**2 + x[1] * x[2] + x[2]**2\n",
    "\n",
    "# Note: x[i] = x_i+1, so x[0] = x1 etc\n",
    "def argmin_x1(x: np.array) -> float:\n",
    "    return (((1/2) * x[1])**(1/3)).real # Derivative wrt x1, equated to zero\n",
    "        \n",
    "def argmin_x2(x: np.array) -> float:\n",
    "    return (1/2) * (x[0] - x[2]) \n",
    "\n",
    "def argmin_x3(x: np.array) -> float:\n",
    "    return -(1/2) * x[1]\n",
    "\n",
    "# Fractional powers and np.array elements do not go well together, so a workaround changing dtypes is used\n",
    "def coordinate_descent(f, argmin, x_0: np.array, max_iter: int = 100) -> np.array:\n",
    "    x_t = x_0\n",
    "    for i in range(1, max_iter + 1):\n",
    "        for j in range(len(x_0)):\n",
    "            x_t[j] = argmin[j](x_t)\n",
    "    x_t = x_t.astype('float64')\n",
    "    return x_t, f(x_t)"
   ]
  },
  {
   "cell_type": "code",
   "execution_count": 212,
   "id": "3d766f36",
   "metadata": {},
   "outputs": [
    {
     "name": "stdout",
     "output_type": "stream",
     "text": [
      "After 100 iterations we find x1 = 0.5773502691896257. The other coordinates are x2 = 0.38490017945975047 and x3 = -0.19245008972987523, with corresponding function value f(x_100) = 0.3888888888888888\n"
     ]
    },
    {
     "name": "stderr",
     "output_type": "stream",
     "text": [
      "C:\\Users\\jespe\\AppData\\Local\\Temp\\ipykernel_39028\\1276088805.py:21: ComplexWarning: Casting complex values to real discards the imaginary part\n",
      "  x_t = x_t.astype('float64')\n"
     ]
    }
   ],
   "source": [
    "argmin = [argmin_x1, argmin_x2, argmin_x3]\n",
    "x_0 = np.array([5, 10, 5], dtype = complex)\n",
    "\n",
    "result = coordinate_descent(f, argmin, x_0, max_iter = 100)\n",
    "print(f\"After 100 iterations we find x1 = {result[0][0]}. The other coordinates are x2 = {result[0][1]} and x3 = {result[0][2]}, with corresponding function value f(x_100) = {result[1]}\")"
   ]
  }
 ],
 "metadata": {
  "kernelspec": {
   "display_name": "Python 3 (ipykernel)",
   "language": "python",
   "name": "python3"
  },
  "language_info": {
   "codemirror_mode": {
    "name": "ipython",
    "version": 3
   },
   "file_extension": ".py",
   "mimetype": "text/x-python",
   "name": "python",
   "nbconvert_exporter": "python",
   "pygments_lexer": "ipython3",
   "version": "3.9.13"
  }
 },
 "nbformat": 4,
 "nbformat_minor": 5
}
