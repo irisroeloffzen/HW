{
 "cells": [
  {
   "cell_type": "code",
   "execution_count": 121,
   "metadata": {},
   "outputs": [],
   "source": [
    "import numpy as np\n",
    "import pandas as pd\n",
    "import math as math;\n",
    "np.seterr(\"warn\");"
   ]
  },
  {
   "cell_type": "markdown",
   "metadata": {},
   "source": [
    "1. Gradient Descent\n",
    "\n",
    "Given is the function $f$:<br>\n",
    "$f(x) = x_1^4 + 4x_1x_2 + 2x_2 + \\frac{1}{2}x_2^2$\n",
    "\n",
    "Its partial derivatives are given by:<br>\n",
    "$\\frac{\\partial f}{\\partial x_1} = 4x_1^3 + 4x_2$\n",
    "\n",
    "$\\frac{\\partial f}{\\partial x_2} = x_2 + 4x_1 + 2$\n",
    "\n",
    "And so the gradient $\\nabla f$ of $f$ is equal to:<br>\n",
    "$$\\begin{pmatrix} 4x_1^3 + 4x_2 \\\\ x_2 + 4x_1 + 2 \\end{pmatrix}$$"
   ]
  },
  {
   "cell_type": "markdown",
   "metadata": {},
   "source": [
    "Function that computes the gradient of $f$ at a given point $x \\in \\mathbb R^2$:"
   ]
  },
  {
   "cell_type": "code",
   "execution_count": 46,
   "metadata": {},
   "outputs": [],
   "source": [
    "def get_gradient_f(x):\n",
    "    partialx1 = 4 * (x[0])**3 + 4 * x[1];\n",
    "    partialx2 = x[1] + 4 * x[0] + 2;\n",
    "    gradient = np.array(partialx1, partialx2);\n",
    "    return gradient;"
   ]
  },
  {
   "cell_type": "markdown",
   "metadata": {},
   "source": [
    "Function 'get_f' that simply returns the function value of $f$ for a given $x \\in \\mathbb R^2$:"
   ]
  },
  {
   "cell_type": "code",
   "execution_count": 48,
   "metadata": {},
   "outputs": [],
   "source": [
    "def get_f(x):\n",
    "    return x[0]**4 + 4*x[0]*x[1] + 2*x[1] + (1/2)*x[1]**2;"
   ]
  },
  {
   "cell_type": "markdown",
   "metadata": {},
   "source": [
    "A function 'eta_const' that returns a constant step-size at any given time instant $t \n",
    "\\in \\N$:"
   ]
  },
  {
   "cell_type": "code",
   "execution_count": 12,
   "metadata": {},
   "outputs": [],
   "source": [
    "def eta_const(t, c=0.1):\n",
    "    return c;"
   ]
  },
  {
   "cell_type": "markdown",
   "metadata": {},
   "source": [
    "A function 'eta_sqrt' that returns for any iteration $t \\in \\N$ the step size $c / \\sqrt{t + 1}$:"
   ]
  },
  {
   "cell_type": "code",
   "execution_count": 66,
   "metadata": {},
   "outputs": [],
   "source": [
    "def eta_sqrt(t, c=0.1):\n",
    "    return c / math.sqrt(t + 1);"
   ]
  },
  {
   "cell_type": "markdown",
   "metadata": {},
   "source": [
    "A function 'eta_multistep' that returns a step size that is initially set to eta init, but is decayed at each milestone by multiplying it with factor c:"
   ]
  },
  {
   "cell_type": "code",
   "execution_count": 79,
   "metadata": {},
   "outputs": [],
   "source": [
    "def eta_multistep(t, milestones, c=0.1, eta_init=0.1):\n",
    "    for i in range(len(milestones)):\n",
    "        if (t < milestones[i]):\n",
    "            return eta_init * c**i;\n",
    "    \n",
    "    return eta_init * c**(len(milestones));"
   ]
  },
  {
   "cell_type": "markdown",
   "metadata": {},
   "source": [
    "The gradient_descent function:"
   ]
  },
  {
   "cell_type": "code",
   "execution_count": 73,
   "metadata": {},
   "outputs": [],
   "source": [
    "def gradient_descent(f, grad_f, eta, x_0, max_iter=100):\n",
    "    coordinates = np.empty([max_iter + 1, 2]);\n",
    "    coordinates[0] = x_0;\n",
    "    for t in range(max_iter):\n",
    "        coordinates[t + 1] = coordinates[t] - eta(t) * grad_f(coordinates[t]);\n",
    "    return f(coordinates[max_iter]);\n",
    "    # poor memory efficiency, but oh well\n"
   ]
  },
  {
   "cell_type": "markdown",
   "metadata": {},
   "source": [
    "Perform 100 iterations, starting at x 0=(1,1) and return the function value of x100 for the following step size policies:"
   ]
  },
  {
   "cell_type": "code",
   "execution_count": 10,
   "metadata": {},
   "outputs": [
    {
     "name": "stdout",
     "output_type": "stream",
     "text": [
      "[1 1]\n"
     ]
    }
   ],
   "source": [
    "x0 = np.array([1,1]);\n",
    "print(x0);"
   ]
  },
  {
   "cell_type": "markdown",
   "metadata": {},
   "source": [
    "A: eta_const:"
   ]
  },
  {
   "cell_type": "code",
   "execution_count": 51,
   "metadata": {},
   "outputs": [
    {
     "name": "stdout",
     "output_type": "stream",
     "text": [
      "4.179738622631322e-23\n"
     ]
    }
   ],
   "source": [
    "print(gradient_descent(get_f, get_gradient_f, eta_const, x0, 100));"
   ]
  },
  {
   "cell_type": "markdown",
   "metadata": {},
   "source": [
    "B: eta_sqrt:"
   ]
  },
  {
   "cell_type": "code",
   "execution_count": 67,
   "metadata": {},
   "outputs": [
    {
     "name": "stdout",
     "output_type": "stream",
     "text": [
      "0.00023604572142682287\n"
     ]
    }
   ],
   "source": [
    "print(gradient_descent(get_f, get_gradient_f, eta_sqrt, x0, 100))"
   ]
  },
  {
   "cell_type": "markdown",
   "metadata": {},
   "source": [
    "C: eta_multistep:"
   ]
  },
  {
   "cell_type": "code",
   "execution_count": 80,
   "metadata": {},
   "outputs": [
    {
     "name": "stdout",
     "output_type": "stream",
     "text": [
      "1.4013539444174622e-09\n"
     ]
    }
   ],
   "source": [
    "# gradient descent especially for multistep:\n",
    "def gradient_descent_multistep(f, grad_f, x_0, max_iter=100):\n",
    "    coordinates = np.empty([max_iter + 1, 2]);\n",
    "    coordinates[0] = x_0;\n",
    "    for t in range(max_iter):\n",
    "        coordinates[t + 1] = coordinates[t] - eta_multistep(t, [10, 60, 90], c=0.5, eta_init=0.1) * grad_f(coordinates[t]);\n",
    "    return f(coordinates[max_iter]);\n",
    "\n",
    "print(gradient_descent_multistep(get_f, get_gradient_f, x0, 100))"
   ]
  },
  {
   "cell_type": "markdown",
   "metadata": {},
   "source": [
    "2. Coordinate Descent:\n",
    "\n",
    "Given is the function $f$:<br>\n",
    "$f = \\frac{1}{2}x_1^4 - x_1x_2 + x_2^2 + x_2x_3 + x_3^2$\n",
    "\n",
    "Below are all partial derivatives of $f$:<br>\n",
    "$\\frac{\\partial f}{\\partial x_1} = 2x_1^3 - x_2$\n",
    "\n",
    "$\\frac{\\partial f}{\\partial x_2} = -x_1 + 2x_2 + x_3$\n",
    "\n",
    "$\\frac{\\partial f}{\\partial x_3} = x_2 + 2x_3$\n",
    "\n",
    "Next, we provide the implementations of the minimizer functions:"
   ]
  },
  {
   "cell_type": "code",
   "execution_count": 129,
   "metadata": {},
   "outputs": [],
   "source": [
    "def argmin_x1(x):\n",
    "    # FONC:\n",
    "    if (x[1] >= 0):\n",
    "        x1 = math.pow(x[1], float(1)/3);\n",
    "    else:\n",
    "        x1 = -math.pow(abs(x[1]), float(1)/3);\n",
    "    # Only one point satisfies FONC, so must be minimum:\n",
    "    return x1;\n",
    "\n",
    "def argmin_x2(x):\n",
    "    # FONC:\n",
    "    x2 = (x[0] - x[2]) / 2;\n",
    "    # Only one point satisfies FONC, so must be minimum:\n",
    "    return x2;\n",
    "\n",
    "def argmin_x3(x):\n",
    "    # FONC:\n",
    "    x3 = -(1/2)*x[1];\n",
    "    # Only one point satisfies FONC, so must be minimum:\n",
    "    return x3;"
   ]
  },
  {
   "cell_type": "markdown",
   "metadata": {},
   "source": [
    "And a (token) function to get values of $f$ for any $x \\in \\mathbb{R}^2$:"
   ]
  },
  {
   "cell_type": "code",
   "execution_count": 83,
   "metadata": {},
   "outputs": [],
   "source": [
    "def get_f(x):\n",
    "    return (1/2)*x[0]**4 + x[0]*x[1]+x[1]**2 + x[1]*x[2] + x[2]**2;"
   ]
  },
  {
   "cell_type": "markdown",
   "metadata": {},
   "source": [
    "Now, we provide a function that can be used to execute coordinate descent:"
   ]
  },
  {
   "cell_type": "code",
   "execution_count": 92,
   "metadata": {},
   "outputs": [],
   "source": [
    "def coordinate_descent(f, argmin, x_0, max_iter=100):\n",
    "    x_t = x_0;\n",
    "    for t in range(max_iter):\n",
    "        for i in range(len(argmin)):\n",
    "            x_t[i] = argmin[i](x_t);\n",
    "    return x_t;"
   ]
  },
  {
   "cell_type": "markdown",
   "metadata": {},
   "source": [
    "Then, finally, we run our code to get the results:"
   ]
  },
  {
   "cell_type": "code",
   "execution_count": 133,
   "metadata": {},
   "outputs": [
    {
     "name": "stdout",
     "output_type": "stream",
     "text": [
      "-0.8164965809277261\n",
      "rounded: -0.8\n"
     ]
    }
   ],
   "source": [
    "x_0 = np.array([5., 10., 5.]);\n",
    "\n",
    "xfinal = coordinate_descent(get_f, [argmin_x1, argmin_x2, argmin_x3], x_0);\n",
    "\n",
    "print(xfinal[0]);\n",
    "print(\"rounded: \" + str(round(xfinal[0], 1)));"
   ]
  },
  {
   "cell_type": "markdown",
   "metadata": {},
   "source": [
    "3. "
   ]
  }
 ],
 "metadata": {
  "kernelspec": {
   "display_name": "Python 3.8.8 ('base')",
   "language": "python",
   "name": "python3"
  },
  "language_info": {
   "codemirror_mode": {
    "name": "ipython",
    "version": 3
   },
   "file_extension": ".py",
   "mimetype": "text/x-python",
   "name": "python",
   "nbconvert_exporter": "python",
   "pygments_lexer": "ipython3",
   "version": "3.8.8"
  },
  "orig_nbformat": 4,
  "vscode": {
   "interpreter": {
    "hash": "ad2bdc8ecc057115af97d19610ffacc2b4e99fae6737bb82f5d7fb13d2f2c186"
   }
  }
 },
 "nbformat": 4,
 "nbformat_minor": 2
}
