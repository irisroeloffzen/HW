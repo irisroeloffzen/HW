{
 "cells": [
  {
   "cell_type": "markdown",
   "metadata": {},
   "source": [
    "\n",
    "Only numpy and pandas can be used, so these need to be imported"
   ]
  },
  {
   "cell_type": "code",
   "execution_count": 1,
   "metadata": {},
   "outputs": [],
   "source": [
    "\n",
    "import numpy as np\n",
    "import pandas as pd"
   ]
  },
  {
   "cell_type": "markdown",
   "metadata": {},
   "source": [
    "\n",
    "We use entropy as impurity measure for the cost, so function to calculate entropy"
   ]
  },
  {
   "cell_type": "code",
   "execution_count": 2,
   "metadata": {},
   "outputs": [],
   "source": [
    "\n",
    "def entropy(data):\n",
    "    entropy = 0\n",
    "    for i in data['target'].unique():\n",
    "        p = data['target'].value_counts()[i]/len(data['target'])\n",
    "        entropy += -p*np.log2(p)\n",
    "    \n",
    "    return entropy"
   ]
  },
  {
   "cell_type": "markdown",
   "metadata": {},
   "source": [
    "\n",
    "Moreover, the CART algorithm needs a function to find possible decisions"
   ]
  },
  {
   "cell_type": "code",
   "execution_count": 3,
   "metadata": {},
   "outputs": [],
   "source": [
    "\n",
    "def possible_decisions(data):\n",
    "    possible_features = data.columns[:-1]\n",
    "    \n",
    "    #create possible decisions\n",
    "    possible_decisions = []\n",
    "    for feature in possible_features:\n",
    "        for value in data[feature].unique():\n",
    "            possible_decisions.append((feature, value))\n",
    "    \n",
    "    return possible_decisions"
   ]
  },
  {
   "cell_type": "markdown",
   "metadata": {},
   "source": [
    "\n",
    "Now we're ready to create the split function"
   ]
  },
  {
   "cell_type": "code",
   "execution_count": 4,
   "metadata": {},
   "outputs": [],
   "source": [
    "\n",
    "def split(data):\n",
    "    \n",
    "    # create place to store best information gain, feature and value\n",
    "    max_information_gain = 0\n",
    "    best_feature = None\n",
    "    best_value = None\n",
    "    \n",
    "    for possible_decision in possible_decisions(data):\n",
    "        feature = possible_decision[0]\n",
    "        value = possible_decision[1]\n",
    "        \n",
    "        #split data\n",
    "        data_left = data[data[feature] != value]\n",
    "        data_right = data[data[feature] == value]\n",
    "        \n",
    "        #calculate entropy\n",
    "        entropy_left = entropy(data_left)\n",
    "        entropy_right = entropy(data_right)\n",
    "        \n",
    "        #calculate information gain\n",
    "        information_gain = entropy(data) - (len(data_left)/len(data)*entropy_left + len(data_right)/len(data)*entropy_right)\n",
    "        \n",
    "        if information_gain > max_information_gain:\n",
    "            max_information_gain = information_gain\n",
    "            best_feature = feature\n",
    "            best_value = value\n",
    "            \n",
    "    \n",
    "    #split data based on feature and value\n",
    "    data_left = data[data[best_feature] != best_value]\n",
    "    data_right = data[data[best_feature] == best_value]\n",
    "    \n",
    "    return data_left, data_right, best_feature, best_value"
   ]
  },
  {
   "cell_type": "markdown",
   "metadata": {},
   "source": [
    "\n",
    "And finally, creating the decision tree"
   ]
  },
  {
   "cell_type": "code",
   "execution_count": 5,
   "metadata": {},
   "outputs": [],
   "source": [
    "\n",
    "def decision_tree(data, depth=0, max_depth=3):\n",
    "    \n",
    "    L = {'leaf': True, 'target': data['target'].value_counts().idxmax()}\n",
    "    \n",
    "    #check if max depth is reached\n",
    "    if depth == max_depth:\n",
    "        print(entropy(data))\n",
    "        return L\n",
    "    \n",
    "    #check if there are no more possible decisions\n",
    "    if len(possible_decisions(data)) == 0:\n",
    "        print(entropy(data))\n",
    "        return L\n",
    "    \n",
    "    #split data\n",
    "    data_left, data_right, feature, value = split(data)\n",
    "    \n",
    "    #create decision tree\n",
    "    T = {'leaf': False, 'feature': feature, 'value': value}\n",
    "    T['left'] = decision_tree(data_left, depth+1, max_depth)\n",
    "    T['right'] = decision_tree(data_right, depth+1, max_depth)\n",
    "    \n",
    "    return T"
   ]
  },
  {
   "cell_type": "markdown",
   "metadata": {},
   "source": [
    "\n",
    "Lets import the training data and create a decision tree\n",
    "\n",
    "Note: Output will be entropy at nodes, to check answer B"
   ]
  },
  {
   "cell_type": "code",
   "execution_count": 6,
   "metadata": {},
   "outputs": [
    {
     "name": "stdout",
     "output_type": "stream",
     "text": [
      "0.34351974100740124\n",
      "0.7642045065086203\n",
      "0.9182958340544896\n",
      "0.9494520153879484\n",
      "0.2811937964320427\n",
      "0.6840384356390417\n",
      "0.9321115676166747\n",
      "0.7219280948873623\n"
     ]
    }
   ],
   "source": [
    "\n",
    "data_train = pd.read_csv('/Users/irisroeloffzen/Downloads/HW1 2/heart_train_data.csv')\n",
    "\n",
    "# delete index column\n",
    "data_train = data_train.reset_index(drop=True)\n",
    "\n",
    "# create decision tree\n",
    "T = decision_tree(data_train, max_depth=3)"
   ]
  },
  {
   "cell_type": "markdown",
   "metadata": {},
   "source": [
    "\n",
    "Now that the decision tree is made, we can create a function to predict with it and test it, and a function to calculate the accuracy"
   ]
  },
  {
   "cell_type": "code",
   "execution_count": 7,
   "metadata": {},
   "outputs": [],
   "source": [
    "\n",
    "def predict(T, x):\n",
    "    if T['leaf']:\n",
    "        return T['target']\n",
    "    else:\n",
    "        if x[T['feature']] != T['value']:\n",
    "            return predict(T['left'], x)\n",
    "        else:\n",
    "            return predict(T['right'], x)\n",
    "        \n",
    "def test(T, data):\n",
    "    predictions = []\n",
    "    for i in range(len(data)):\n",
    "        predictions.append(predict(T, data.iloc[i]))\n",
    "    return predictions\n",
    "\n",
    "def accuracy(predictions, data):\n",
    "    correct = 0\n",
    "    for i in range(len(predictions)):\n",
    "        if predictions[i] == data.iloc[i]['target']:\n",
    "            correct += 1\n",
    "    return correct/len(predictions)"
   ]
  },
  {
   "cell_type": "markdown",
   "metadata": {},
   "source": [
    "\n",
    "Now lets import our test data"
   ]
  },
  {
   "cell_type": "code",
   "execution_count": 8,
   "metadata": {},
   "outputs": [],
   "source": [
    "\n",
    "data_test = pd.read_csv('/Users/irisroeloffzen/Downloads/HW1 2/heart_validate_data.csv')\n",
    "\n",
    "# delete index column\n",
    "data_test = data_test.reset_index(drop=True)"
   ]
  },
  {
   "cell_type": "markdown",
   "metadata": {},
   "source": [
    "\n",
    "Now to answer the HW question, lets calculate the accuracy"
   ]
  },
  {
   "cell_type": "code",
   "execution_count": 9,
   "metadata": {},
   "outputs": [
    {
     "name": "stdout",
     "output_type": "stream",
     "text": [
      "0.7252747252747253\n"
     ]
    }
   ],
   "source": [
    "\n",
    "accuracy = accuracy(test(T, data_test), data_test)\n",
    "print(accuracy)"
   ]
  },
  {
   "cell_type": "markdown",
   "metadata": {},
   "source": [
    "\n",
    "Lets see what the decision of the root is"
   ]
  },
  {
   "cell_type": "code",
   "execution_count": 10,
   "metadata": {},
   "outputs": [
    {
     "name": "stdout",
     "output_type": "stream",
     "text": [
      "cp 0\n"
     ]
    }
   ],
   "source": [
    "\n",
    "# print value and feature of root node\n",
    "\n",
    "print(T['feature'], T['value'])"
   ]
  },
  {
   "cell_type": "markdown",
   "metadata": {},
   "source": [
    "\n",
    "Now lets see if a patient that has atypical angina, exercise induced angina, and a fixed defect thallium heart scan will be diagnosed as having a heart disease by the decision tree classifier."
   ]
  },
  {
   "cell_type": "code",
   "execution_count": 11,
   "metadata": {},
   "outputs": [
    {
     "name": "stdout",
     "output_type": "stream",
     "text": [
      "[1]\n"
     ]
    }
   ],
   "source": [
    "\n",
    "data_question = {'cp': 1.0, 'exang': 1.0, 'thal': 2.0}\n",
    "data_q = pd.DataFrame(data_question, index=[0])\n",
    "\n",
    "test = test(T, data_q)\n",
    "print(test)\n"
   ]
  }
 ],
 "metadata": {
  "kernelspec": {
   "display_name": "Python 3.8.13 ('environment')",
   "language": "python",
   "name": "python3"
  },
  "language_info": {
   "codemirror_mode": {
    "name": "ipython",
    "version": 3
   },
   "file_extension": ".py",
   "mimetype": "text/x-python",
   "name": "python",
   "nbconvert_exporter": "python",
   "pygments_lexer": "ipython3",
   "version": "3.8.13"
  },
  "orig_nbformat": 4,
  "vscode": {
   "interpreter": {
    "hash": "357a34819ee4d8b1d8563b0e0f996a511fc854886d7ed5d0b4114138de4192fa"
   }
  }
 },
 "nbformat": 4,
 "nbformat_minor": 2
}
